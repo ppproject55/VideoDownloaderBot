{
  "nbformat": 4,
  "nbformat_minor": 0,
  "metadata": {
    "colab": {
      "name": "VideoDownloaderBot",
      "provenance": [],
      "authorship_tag": "ABX9TyPWMlUD/JXp4q8ST9UVJuhf",
      "include_colab_link": true
    },
    "kernelspec": {
      "display_name": "Python 3",
      "name": "python3"
    },
    "language_info": {
      "name": "python"
    }
  },
  "cells": [
    {
      "cell_type": "markdown",
      "metadata": {
        "id": "view-in-github",
        "colab_type": "text"
      },
      "source": [
        "<a href=\"https://colab.research.google.com/github/ppproject55/VideoDownloaderBot/blob/main/VideoDownloaderBot.ipynb\" target=\"_parent\"><img src=\"https://colab.research.google.com/assets/colab-badge.svg\" alt=\"Open In Colab\"/></a>"
      ]
    },
    {
      "cell_type": "code",
      "metadata": {
        "cellView": "form",
        "id": "EBqWM-x61KSn"
      },
      "source": [
        "#@title <<----<strong> Auto Reconnect\n",
        "%%capture\n",
        "import IPython\n",
        "from google.colab import output\n",
        "\n",
        "display(IPython.display.Javascript('''\n",
        "function ClickConnect(){\n",
        "  btn = document.querySelector(\"colab-connect-button\")\n",
        "  if (btn != null){\n",
        "    console.log(\"Click colab-connect-button\"); \n",
        "    btn.click() \n",
        "    }\n",
        "  \n",
        "  btn = document.getElementById('ok')\n",
        "  if (btn != null){\n",
        "    console.log(\"Click reconnect\"); \n",
        "    btn.click() \n",
        "    }\n",
        "  }\n",
        "  \n",
        "setInterval(ClickConnect,60000)\n",
        "'''))"
      ],
      "execution_count": null,
      "outputs": []
    },
    {
      "cell_type": "code",
      "metadata": {
        "id": "G7-1QZEdQXCT"
      },
      "source": [
        "!apt install ffmpeg aria2\n",
        "!git clone https://github.com/ppproject55/VideoDownloaderBot\n",
        "%cd VideoDownloaderBot"
      ],
      "execution_count": null,
      "outputs": []
    },
    {
      "cell_type": "code",
      "metadata": {
        "id": "UQhZ5LqSRIA2"
      },
      "source": [
        "!pip3 install -U pip\n",
        "!pip3 install -r ./requirements.txt"
      ],
      "execution_count": null,
      "outputs": []
    },
    {
      "cell_type": "code",
      "metadata": {
        "id": "Owqe0tPxUJbM"
      },
      "source": [
        "%env API_ID=16494736 \n",
        "# Get from https://my.telegram.org/apps\n",
        "%env API_HASH=2cb7fa5859e2de684e3e10d9c049621a\n",
        "# Get from https://my.telegram.org/apps\n",
        "%env BOT_TOKEN=6929337976:AAGVaqTCTxAYebSL1ITwN4yB7jzYkwP5cso \n",
        "# Get from https://t.me/BotFather\n",
        "%env AUTH_USERS=5071104456 \n",
        "# User ids of those who can use bot anywhere without limit\n",
        "%env GROUPS=1004108078454 \n",
        "# Chat ids where you wan't many to use the bot\n",
        "%env JSON_GROUPS=1004108078454 \n",
        "# Chat ids where you wan't many to use the bot to download from jsons\n",
        "%env THUMB= \n",
        "# Url of video thumbnail. Leave to use video's thumbnail\n",
        "%env NAME=श्री राम भक्त \n",
        "# Name to send with video"
      ],
      "execution_count": null,
      "outputs": []
    },
    {
      "cell_type": "code",
      "metadata": {
        "colab": {
          "background_save": true
        },
        "id": "k2ARB3FQQyI-"
      },
      "source": [
        "!python3 bot.py"
      ],
      "execution_count": null,
      "outputs": []
    }
  ]
}
